{
 "cells": [
  {
   "cell_type": "markdown",
   "metadata": {},
   "source": [
    "## 2. OpenCV를 활용한 기본 Vision AI 구현\n",
    "### 2.1 OpenCV 기초 및 이미지 처리 개념\n",
    "- OpenCV의 역할과 기본 기능\n",
    "- 영상 처리의 핵심 개념 (필터링, 엣지 검출 등)\n",
    "\n",
    "### [실습 2] OpenCV로 실시간 카메라 스트리밍\n",
    "- OpenCV를 이용해 카메라에서 실시간 영상 출력\n",
    "- 이미지 필터 적용 (GrayScale, Canny Edge Detection)\n",
    "- 라즈베리파이에서 프레임 속도 확인 및 최적화\n",
    "\n",
    "### 2.2 얼굴 인식 기술 개요\n",
    "- 얼굴 검출과 인식의 원리\n",
    "- 다양한 얼굴 인식 알고리즘 (Haar Cascade, DNN)\n",
    "\n",
    "### [실습 3] 얼굴 인식 시스템 만들기\n",
    "- Haar Cascade를 활용한 얼굴 감지\n",
    "- OpenCV DNN을 활용한 실시간 얼굴 인식\n",
    "- 카메라로 얼굴을 인식하면 박스를 그리는 기능 추가"
   ]
  }
 ],
 "metadata": {
  "language_info": {
   "name": "python"
  }
 },
 "nbformat": 4,
 "nbformat_minor": 2
}
