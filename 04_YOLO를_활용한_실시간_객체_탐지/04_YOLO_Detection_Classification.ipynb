{
 "cells": [
  {
   "cell_type": "markdown",
   "metadata": {},
   "source": [
    "# 01. YOLO를 활용한 실시간 객체 탐지 (Detection & Classification)\n",
    "\n",
    "## 01-1. YOLO 개념 및 다양한 활용 방식\n",
    "\n",
    "### YOLO 모델의 원리와 작동 방식\n",
    "- YOLO(You Only Look Once)는 한 번의 신경망 연산을 통해 객체를 탐지하는 방식의 딥러닝 기반 객체 탐지 모델입니다.\n",
    "- 입력 이미지를 특정 크기로 변환한 후, CNN을 통해 피처 맵을 생성하고, 이를 기반으로 바운딩 박스와 클래스 정보를 예측합니다.\n",
    "- 기존 R-CNN 기반 탐지 모델보다 속도가 빠르고, 실시간 처리에 적합합니다.\n",
    "\n",
    "### Tiny 모델과 Nano 모델의 차이점\n",
    "- **YOLO Tiny**: YOLO의 경량화된 버전으로, 네트워크 크기가 작아 속도가 빠르지만 정확도가 상대적으로 낮습니다.\n",
    "- **YOLO Nano**: YOLOv5 및 v8에서 등장한 초경량 모델로, 보다 최적화된 연산을 사용하여 정확도를 유지하면서도 빠른 속도를 제공합니다.\n",
    "- **활용 사례**: Tiny는 리소스가 적은 환경에서 빠른 탐지가 필요할 때, Nano는 모바일 및 엣지 디바이스에서 최적화된 탐지가 필요할 때 사용됩니다.\n",
    "\n",
    "# 02. [실습 6] YOLOv5-Nano 모델 변환 및 실행\n",
    "\n",
    "## 02-1. YOLOv5 Nano 모델을 TFLite로 변환\n",
    "1. Pre-trained YOLOv5 Nano 모델을 다운로드합니다.\n",
    "   ```bash\n",
    "   git clone https://github.com/ultralytics/yolov5.git\n",
    "   cd yolov5\n",
    "   pip install -r requirements.txt\n",
    "   ```\n",
    "2. ONNX 형식으로 변환한 후, TensorFlow Lite 형식으로 변환합니다.\n",
    "   ```bash\n",
    "   python export.py --weights yolov5n.pt --include onnx tf\n",
    "   ```\n",
    "3. 변환된 TFLite 모델을 Raspberry Pi에서 실행할 수 있도록 최적화합니다."
   ]
  },
  {
   "cell_type": "markdown",
   "metadata": {},
   "source": [
    "## 02-2. ONNX에서 TFLite 변환 후 라즈베리파이에서 실행\n",
    "- ONNX 모델을 TFLite로 변환하는 코드 작성"
   ]
  },
  {
   "cell_type": "code",
   "execution_count": null,
   "metadata": {},
   "outputs": [],
   "source": [
    "import tensorflow as tf\n",
    "\n",
    "converter = tf.lite.TFLiteConverter.from_saved_model('yolov5_model')\n",
    "tflite_model = converter.convert()\n",
    "with open('yolov5_model.tflite', 'wb') as f:\n",
    "    f.write(tflite_model)"
   ]
  },
  {
   "cell_type": "markdown",
   "metadata": {},
   "source": [
    "- Raspberry Pi에서 실행 시 필요한 설정 및 환경 구축\n",
    "   ```bash\n",
    "   sudo apt update\n",
    "   sudo apt install -y libopencv-dev python3-opencv\n",
    "   ```"
   ]
  },
  {
   "cell_type": "markdown",
   "metadata": {},
   "source": [
    "- 실시간 카메라 스트리밍과 연결하여 객체 탐지"
   ]
  },
  {
   "cell_type": "code",
   "execution_count": null,
   "metadata": {},
   "outputs": [],
   "source": [
    "import cv2\n",
    "\n",
    "cap = cv2.VideoCapture(0)\n",
    "while True:\n",
    "    ret, frame = cap.read()\n",
    "    if not ret:\n",
    "        break\n",
    "    cv2.imshow('Camera', frame)\n",
    "    if cv2.waitKey(1) & 0xFF == ord('q'):\n",
    "        break\n",
    "cap.release()\n",
    "cv2.destroyAllWindows()"
   ]
  },
  {
   "cell_type": "markdown",
   "metadata": {},
   "source": [
    "# 03. YOLO를 활용한 이미지 분류(Classification)\n",
    "\n",
    "## 03-1. YOLO를 이미지 분류용으로 활용하는 방법\n",
    "- 일반적인 CNN 기반 이미지 분류 모델과 YOLO의 차이점\n",
    "- YOLO의 분류 헤드 구조와 활용 가능성\n",
    "- YOLOv5 및 v8에서의 Classification 적용 방식\n",
    "\n",
    "## 03-2. YOLO 기반 분류 모델의 활용 사례\n",
    "- 의료 영상에서 특정 질환 분류\n",
    "- 공장 생산 라인에서 제품 불량 감지\n",
    "- 일반적인 이미지 분류 태스크 적용\\"
   ]
  },
  {
   "cell_type": "markdown",
   "metadata": {},
   "source": [
    "---\n",
    "\n",
    "# 04. [실습 7] YOLO를 활용한 이미지 분류\n",
    "## 04-1. YOLO 모델을 분류(Classification)용으로 변환\n",
    "- YOLO의 Backbone을 활용하여 이미지 분류 모델로 동작하도록 설정합니다.\n",
    "- Classification 전용 가중치를 사용하여 모델을 훈련합니다.\n",
    "   ```bash\n",
    "   python train.py --img 224 --batch 16 --epochs 50 --data classification.yaml --weights yolov5n.pt --cache\n",
    "   ```"
   ]
  },
  {
   "cell_type": "markdown",
   "metadata": {},
   "source": [
    "## 04-2. 사전 학습된 모델을 활용한 이미지 분류 테스트\n",
    "- 사전 학습된 YOLO 모델을 활용하여 다양한 이미지에 대한 분류 테스트를 진행합니다.\n",
    "   ```python\n",
    "   python classify.py --weights yolov5n-cls.pt --source test.jpg\n",
    "   ```\n",
    "- Raspberry Pi에서 분류 모델을 실행하여 실시간으로 동작하는지 확인합니다."
   ]
  },
  {
   "cell_type": "markdown",
   "metadata": {},
   "source": [
    "## 04-3. 라즈베리파이에서 실시간 이미지 분류 구현\n",
    "- OpenCV를 활용하여 카메라 입력을 실시간으로 받아 YOLO 분류 모델로 처리합니다.\n",
    "- 최적화된 경량화 모델을 사용하여 Raspberry Pi에서 원활히 실행되도록 설정합니다."
   ]
  }
 ],
 "metadata": {
  "language_info": {
   "name": "python"
  }
 },
 "nbformat": 4,
 "nbformat_minor": 2
}
