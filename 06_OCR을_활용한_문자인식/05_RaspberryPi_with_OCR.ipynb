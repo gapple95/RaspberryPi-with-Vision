{
 "cells": [
  {
   "cell_type": "markdown",
   "metadata": {},
   "source": [
    "# 01. OCR을 활용한 문자 인식\n",
    "\n",
    "## 01-1. OCR 개요\n",
    "\n",
    "### OCR이란?\n",
    "OCR(Optical Character Recognition, 광학 문자 인식)은 이미지 내의 텍스트를 감지하고 이를 디지털 텍스트로 변환하는 기술입니다. OCR은 문서 자동화, 차량 번호판 인식, 전자상거래 및 금융 서비스에서 널리 사용됩니다.\n",
    "\n",
    "### OCR의 활용 사례\n",
    "- **문서 스캔 및 디지털화**: 문서를 스캔하여 편집 가능한 형태로 변환합니다.\n",
    "- **자동차 번호판 인식**: 교통 감시 및 주차 관리 시스템에서 사용됩니다.\n",
    "- **바코드 및 영수증 처리**: 쇼핑몰 및 물류 관리 시스템에서 활용됩니다.\n",
    "- **자연어 처리(NLP)와 결합**: OCR을 통해 추출한 텍스트를 분석하여 의미를 파악합니다.\n",
    "\n",
    "## 01-2. OCR 동작 원리\n",
    "### 전처리 단계\n",
    "- **이진화(Binarization)**: 이미지의 배경과 문자를 분리하기 위해 그레이스케일 변환 후 Otsu’s Thresholding을 적용합니다.\n",
    "- **노이즈 제거**: 가우시안 블러(Gaussian Blur) 및 모폴로지 연산을 활용하여 배경을 제거합니다.\n",
    "- **문자 정렬 및 기울기 보정**: Hough Transform을 활용하여 텍스트를 정렬합니다.\n",
    "\n",
    "### 문자 인식 과정\n",
    "- **세그멘테이션(Segmentation)**: 문자를 개별적으로 분할합니다.\n",
    "- **피처 추출(Feature Extraction)**: 문자 패턴을 추출하여 벡터화합니다.\n",
    "- **딥러닝 기반 인식**: CNN과 RNN을 활용하여 문자를 분류하고 해석합니다.\n",
    "\n",
    "## 01-3. 주요 OCR 기술\n",
    "### 전통적인 OCR 엔진\n",
    "- **Tesseract OCR** (Google 지원): 오픈소스로 제공되는 강력한 OCR 엔진입니다.\n",
    "  - LSTM 기반의 문자 인식을 지원합니다.\n",
    "  - 다양한 언어를 지원하며, 사용자 정의 학습이 가능합니다.\n",
    "  \n",
    "### 딥러닝 기반 OCR\n",
    "- **CRNN (Convolutional Recurrent Neural Network)**\n",
    "  - CNN을 통해 특징을 추출하고 RNN을 활용하여 문맥을 이해하여 OCR 성능을 향상합니다.\n",
    "- **EAST (Efficient and Accurate Scene Text Detector)**\n",
    "  - 실시간 텍스트 검출이 가능하며, OpenCV와 TensorFlow에서 지원됩니다."
   ]
  },
  {
   "cell_type": "markdown",
   "metadata": {},
   "source": [
    "---\n",
    "\n",
    "# 02. [실습 9] OpenCV + Tesseract로 간단한 문자 인식\n",
    "\n",
    "## 02-1. 환경 설정\n",
    "OCR을 수행하기 위해 다음 라이브러리를 설치해야 한다.\n",
    "```bash\n",
    "pip install opencv-python pytesseract\n",
    "```\n",
    "Tesseract OCR 엔진을 설치하고 환경 변수를 설정해야 한다."
   ]
  },
  {
   "cell_type": "markdown",
   "metadata": {},
   "source": [
    "## 02-2. OpenCV를 활용한 이미지 전처리\n",
    "이미지에서 텍스트를 보다 잘 추출하기 위해 OpenCV를 활용하여 대비 조정 및 이진화를 적용한다."
   ]
  },
  {
   "cell_type": "code",
   "execution_count": null,
   "metadata": {},
   "outputs": [],
   "source": [
    "import cv2\n",
    "import pytesseract\n",
    "\n",
    "# 이미지 로드\n",
    "image = cv2.imread('sample_text.jpg')\n",
    "\n",
    "# 그레이스케일 변환\n",
    "gray = cv2.cvtColor(image, cv2.COLOR_BGR2GRAY)\n",
    "\n",
    "# 이진화 처리\n",
    "thresh = cv2.threshold(gray, 150, 255, cv2.THRESH_BINARY_INV)[1]\n",
    "\n",
    "# OCR 수행\n",
    "text = pytesseract.image_to_string(thresh, lang='eng')\n",
    "print(\"인식된 텍스트:\", text)"
   ]
  },
  {
   "cell_type": "markdown",
   "metadata": {},
   "source": [
    "# 03. [실습 10] OCR을 활용한 실전 프로젝트\n",
    "\n",
    "## 03-1. OCR을 활용한 번호판 인식 원리\n",
    "번호판 인식을 위해 YOLO를 활용하여 번호판 영역을 검출한 후, 해당 영역을 OCR을 사용하여 문자를 인식한다.\n",
    "\n",
    "## 03-2. OpenCV + YOLO로 번호판 영역 검출\n",
    "YOLO를 활용하여 차량 이미지에서 번호판 영역을 검출한다."
   ]
  },
  {
   "cell_type": "code",
   "execution_count": null,
   "metadata": {},
   "outputs": [],
   "source": [
    "import cv2\n",
    "import numpy as np\n",
    "\n",
    "def detect_license_plate(image_path):\n",
    "    net = cv2.dnn.readNet('yolov4.weights', 'yolov4.cfg')\n",
    "    image = cv2.imread(image_path)\n",
    "    blob = cv2.dnn.blobFromImage(image, 0.00392, (416, 416), swapRB=True, crop=False)\n",
    "    net.setInput(blob)\n",
    "    output_layers = net.getUnconnectedOutLayersNames()\n",
    "    detections = net.forward(output_layers)\n",
    "    return detections"
   ]
  },
  {
   "cell_type": "markdown",
   "metadata": {},
   "source": [
    "### OCR을 활용한 문자 인식\n",
    "검출된 번호판 영역을 잘라서 OCR을 적용한다."
   ]
  },
  {
   "cell_type": "code",
   "execution_count": null,
   "metadata": {},
   "outputs": [],
   "source": [
    "license_plate_roi = image[y:y+h, x:x+w]\n",
    "text = pytesseract.image_to_string(license_plate_roi, lang='eng')\n",
    "print(\"번호판 번호:\", text)"
   ]
  }
 ],
 "metadata": {
  "language_info": {
   "name": "python"
  }
 },
 "nbformat": 4,
 "nbformat_minor": 2
}
